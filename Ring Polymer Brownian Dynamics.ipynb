{
 "cells": [
  {
   "cell_type": "markdown",
   "metadata": {},
   "source": [
    "# Ring Polymer Brownian Dynamics"
   ]
  },
  {
   "cell_type": "markdown",
   "metadata": {},
   "source": [
    "## Summary\n",
    "\n",
    "This notebook demonstrates various Brownian dynamics simulations of ring polymer systems. In addition to ordinary freely-draining and Ermak-McCammon [1] methods, two algorithms are implemented for pre-averaged and instantaneous-averaged hydrodynamic interactions which leverage the symmetries of the rings to improve performance, as described in ref. [2].  This code is meant for demonstration purposes only and therefore has not been optimized and may contain bugs. Furthermore, the polymer model is as simple as possible: a closed loop of beads connected by Hookean springs. To model topologically linked ring polymers, we use the double-Rouse model recently constructed for poly[*n*]catenanes [3]. However, only assemblies of two rings are supported."
   ]
  },
  {
   "cell_type": "markdown",
   "metadata": {},
   "source": [
    "## Code Documentation\n",
    "\n",
    "All relevant code is contained in the rpbd.py file. This implementation requires the numpy library.\n",
    "\n",
    "**Simulation(** numRings=1,beadsPerRing=8,hiType=0,calcEvery=100,writeEvery=1000,hStar=0.5,dt=0.01,output=\"out.xyz\" **)**\n",
    "\n",
    "&emsp;&emsp; Create a Simulation object which can conduct BD simulations of ring polymers.\n",
    "\n",
    "&emsp;**Parameters**: \n",
    "    \n",
    "&emsp;&emsp;&emsp;**numRings : int**\n",
    "\n",
    "&emsp;&emsp;&emsp;&emsp;&emsp;&emsp; Number of ring polymers (1 or 2)\n",
    "\n",
    "&emsp;&emsp;&emsp;**beadsPerRing : int**\n",
    "\n",
    "&emsp;&emsp;&emsp;&emsp;&emsp;&emsp; Number of beads per ring polymer (must be three or greater)\n",
    "\n",
    "&emsp;&emsp;&emsp;**hiType : int**\n",
    "\n",
    "&emsp;&emsp;&emsp;&emsp;&emsp;&emsp; How to include HI in the system. The following options are allowed:\n",
    "\n",
    "&emsp;&emsp;&emsp;&emsp;&emsp;&emsp; 0 = Freely Draining\n",
    "\n",
    "&emsp;&emsp;&emsp;&emsp;&emsp;&emsp; 1 = Pre-Averaged HI (requires calling the **setMobility()** function, see below))\n",
    "\n",
    "&emsp;&emsp;&emsp;&emsp;&emsp;&emsp; 2 = Instantaneously Averaged HI\n",
    "\n",
    "&emsp;&emsp;&emsp;&emsp;&emsp;&emsp; 3 = Full HI\n",
    "\n",
    "&emsp;&emsp;&emsp;&emsp;&emsp;&emsp; 4 = Classic Pre-Averaged HI [4] (requires calling the **setMobility()** function, see below))\n",
    "\n",
    "&emsp;&emsp;&emsp;**calcEvery : int**\n",
    "\n",
    "&emsp;&emsp;&emsp;&emsp;&emsp;&emsp; How many time steps between mobility tensor calculations (if applicable)\n",
    "\n",
    "&emsp;&emsp;&emsp;**writeEvery : int**\n",
    "\n",
    "&emsp;&emsp;&emsp;&emsp;&emsp;&emsp; How many time steps between writing particle coordinates\n",
    "\n",
    "&emsp;&emsp;&emsp;**hStar : float**\n",
    "\n",
    "&emsp;&emsp;&emsp;&emsp;&emsp;&emsp; Strength of HI, see ref. [5].\n",
    "\n",
    "&emsp;&emsp;&emsp;**dt : float**\n",
    "\n",
    "&emsp;&emsp;&emsp;&emsp;&emsp;&emsp; Timestep.\n",
    "\n",
    "&emsp;&emsp;&emsp;**output : string**\n",
    "\n",
    "&emsp;&emsp;&emsp;&emsp;&emsp;&emsp; Output file for writing particle coordinates.\n",
    "\n",
    "&emsp;**Functions**: \n",
    "\n",
    "&emsp;&emsp;&emsp;**setPositions(** *numpy.ndarray* **)**\n",
    "\n",
    "&emsp;&emsp;&emsp;&emsp;&emsp;&emsp; Set the particle positions.\n",
    "\n",
    "&emsp;&emsp;&emsp;**getPositions()**\n",
    "\n",
    "&emsp;&emsp;&emsp;&emsp;&emsp;&emsp; Return the particle positions.\n",
    "\n",
    "&emsp;&emsp;&emsp;**setHI(** *int* **)**\n",
    "\n",
    "&emsp;&emsp;&emsp;&emsp;&emsp;&emsp; Set the type of HI.\n",
    "\n",
    "&emsp;&emsp;&emsp;**setMobility(** *numpy.ndarray* **)**\n",
    "\n",
    "&emsp;&emsp;&emsp;&emsp;&emsp;&emsp; Set the mobility matrix.\n",
    "\n",
    "&emsp;&emsp;&emsp;**setCalc(** *int* **)**\n",
    "\n",
    "&emsp;&emsp;&emsp;&emsp;&emsp;&emsp; Set the frequency of HI tensor calculation.\n",
    "\n",
    "&emsp;&emsp;&emsp;**setWrite(** *int* **)**\n",
    "\n",
    "&emsp;&emsp;&emsp;&emsp;&emsp;&emsp; Set the frequency of particle coordinate recording.\n",
    "\n",
    "&emsp;&emsp;&emsp;**setOutput(** *int* **)**\n",
    "\n",
    "&emsp;&emsp;&emsp;&emsp;&emsp;&emsp; Set the output file name for particle coordinate recording.\n",
    "\n",
    "&emsp;&emsp;&emsp;**run(** *int* **)**\n",
    "\n",
    "&emsp;&emsp;&emsp;&emsp;&emsp;&emsp; Run the simulation for a given number of timesteps."
   ]
  },
  {
   "cell_type": "markdown",
   "metadata": {},
   "source": [
    "## Examples\n",
    "\n",
    "Some sample usage."
   ]
  },
  {
   "cell_type": "markdown",
   "metadata": {},
   "source": [
    "#### Importing"
   ]
  },
  {
   "cell_type": "code",
   "execution_count": null,
   "metadata": {},
   "outputs": [],
   "source": [
    "import numpy as np\n",
    "from rpbd import *"
   ]
  },
  {
   "cell_type": "markdown",
   "metadata": {},
   "source": [
    "### 1. Freely-Draining Ring Polymers"
   ]
  },
  {
   "cell_type": "code",
   "execution_count": null,
   "metadata": {},
   "outputs": [],
   "source": [
    "# place beads on a circle\n",
    "m = 8\n",
    "positions = np.zeros((m,3))\n",
    "radius = 4.0*float(m)/(2.0*np.pi)\n",
    "for i in range(m):\n",
    "    positions[i,1] = radius*np.cos(2.0*np.pi*i/float(m))\n",
    "    positions[i,2] = radius*np.sin(2.0*np.pi*i/float(m))\n",
    "    \n",
    "# create simulation object and set positions\n",
    "sim = Simulation(numRings=1,beadsPerRing=m,hiType=0)\n",
    "sim.setPositions(positions)\n",
    "\n",
    "# run the simulation\n",
    "sim.setWrite(1000) # write coords every 1000 steps\n",
    "sim.setOutput(\"fd.xyz\")\n",
    "sim.setCalc(999999) # don't bother calculating mobility tensor\n",
    "sim.run(100000)\n"
   ]
  },
  {
   "cell_type": "markdown",
   "metadata": {},
   "source": [
    "### 2. Pre-Averaging with Ring Polymers"
   ]
  },
  {
   "cell_type": "code",
   "execution_count": null,
   "metadata": {},
   "outputs": [],
   "source": [
    "# place beads on a circle\n",
    "m = 8\n",
    "n = 1\n",
    "positions = np.zeros((m*n,3))\n",
    "radius = 4.0*float(m)/(2.0*np.pi)\n",
    "for i in range(m):\n",
    "    positions[i,1] = radius*np.cos(2.0*np.pi*i/float(m))\n",
    "    positions[i,2] = radius*np.sin(2.0*np.pi*i/float(m))\n",
    "    \n",
    "# create simulation object and set positions\n",
    "sim = Simulation(numRings=n,beadsPerRing=m,hiType=0)\n",
    "sim.setPositions(positions)\n",
    "\n",
    "# run a freely-draining simulation\n",
    "# first equilibrate\n",
    "sim.setWrite(999999) # don't worry about writing coords or calculating mobility for now\n",
    "sim.setCalc(999999)\n",
    "avgMobility = sim.run(100000)\n",
    "\n",
    "# now get an average mobility matrix and save the final positions\n",
    "sim.setCalc(100) # calculate mobility every 100 steps\n",
    "avgMobility = sim.run(1000)\n",
    "\n",
    "# set the HI type to pre-averaging\n",
    "sim.setHI(1)\n",
    "sim.setWrite(1000) # write coordinates every 1000 steps\n",
    "sim.setOutput(\"pre.xyz\")\n",
    "\n",
    "# set the mobility tensor\n",
    "sim.setMobility(avgMobility)\n",
    "\n",
    "# run a simulation\n",
    "result = sim.run(100000)\n"
   ]
  },
  {
   "cell_type": "markdown",
   "metadata": {},
   "source": [
    "### 3. Instantaneous Averaging with [2]Catenanes"
   ]
  },
  {
   "cell_type": "code",
   "execution_count": null,
   "metadata": {},
   "outputs": [],
   "source": [
    "# place beads in two circles\n",
    "m = 6\n",
    "n = 2\n",
    "positions = np.zeros((n*m,3))\n",
    "radius = 4.0*float(m)/(2.0*np.pi)\n",
    "for i in range(n):\n",
    "    for j in range(m):\n",
    "        positions[i*m+j,0] = 2.0*i\n",
    "        positions[i*m+j,1] = radius*np.cos(2.0*np.pi*j/float(4))\n",
    "        positions[i*m+j,2] = radius*np.sin(2.0*np.pi*j/float(4))\n",
    "    \n",
    "# create simulation object and set positions\n",
    "sim = Simulation(numRings=2,beadsPerRing=6,hiType=2)\n",
    "sim.setPositions(positions)\n",
    "sim.setOutput(\"inst.xyz\")\n",
    "sim.setCalc(100)\n",
    "sim.setWrite(1000)\n",
    "\n",
    "# run simulation\n",
    "result = sim.run(100000)\n"
   ]
  },
  {
   "cell_type": "markdown",
   "metadata": {},
   "source": [
    "### 4. Full HI for Ring Polymers"
   ]
  },
  {
   "cell_type": "code",
   "execution_count": null,
   "metadata": {},
   "outputs": [],
   "source": [
    "# place beads on a circle\n",
    "m = 8\n",
    "n = 1\n",
    "positions = np.zeros((m*n,3))\n",
    "radius = 4.0*float(m)/(2.0*np.pi)\n",
    "for i in range(m):\n",
    "    positions[i,1] = radius*np.cos(2.0*np.pi*i/float(m))\n",
    "    positions[i,2] = radius*np.sin(2.0*np.pi*i/float(m))\n",
    "    \n",
    "# create simulation object and set positions\n",
    "sim = Simulation(numRings=n,beadsPerRing=m,hiType=0)\n",
    "sim.setPositions(positions)\n",
    "\n",
    "# first equilibrate freely-draining (faster)\n",
    "sim.setCalc(999999)\n",
    "sim.setWrite(999999)\n",
    "avgMobility = sim.run(100000)\n",
    "\n",
    "# set the HI type to full\n",
    "sim.setHI(3)\n",
    "\n",
    "# run a simulation\n",
    "sim.setCalc(2)\n",
    "sim.setWrite(1000)\n",
    "sim.setOutput(\"hi.xyz\")\n",
    "result = sim.run(10000)\n"
   ]
  },
  {
   "cell_type": "markdown",
   "metadata": {},
   "source": [
    "## References\n",
    "\n",
    "1. Ermak and McCammon, *J. Chem. Phys.* **69**, 1352 (1978) [https://doi.org/10.1063/1.436761](https://doi.org/10.1063/1.436761)\n",
    "2. Rauscher *et al.*, *In Revision* (2020)\n",
    "3. Rauscher *et al.*, *J. Chem. Phys.* **152**, 214901 (2020) [https://doi.org/10.1063/5.0007573](https://doi.org/10.1063/5.0007573)\n",
    "4. Miao *et al.*, *J. Chem. Phys.* **147**, 024904 (2017) [https://doi.org/10.1063/1.4993218](https://doi.org/10.1063/1.4993218)\n",
    "5. Zylka and &Ouml;ttinger, *J. Chem. Phys.* **90**, 474 (1989) [https://doi.org/10.1063/1.456690](https://doi.org/10.1063/1.456690)"
   ]
  },
  {
   "cell_type": "code",
   "execution_count": null,
   "metadata": {},
   "outputs": [],
   "source": []
  }
 ],
 "metadata": {
  "kernelspec": {
   "display_name": "Python 3",
   "language": "python",
   "name": "python3"
  },
  "language_info": {
   "codemirror_mode": {
    "name": "ipython",
    "version": 3
   },
   "file_extension": ".py",
   "mimetype": "text/x-python",
   "name": "python",
   "nbconvert_exporter": "python",
   "pygments_lexer": "ipython3",
   "version": "3.8.5"
  }
 },
 "nbformat": 4,
 "nbformat_minor": 4
}
